{
 "cells": [
  {
   "cell_type": "markdown",
   "metadata": {},
   "source": [
    "References:\n",
    "\n",
    "- https://aact.ctti-clinicaltrials.org/points_to_consider  \n",
    "- https://aact.ctti-clinicaltrials.org/schema  \n",
    "- https://aact.ctti-clinicaltrials.org/data_dictionary  "
   ]
  },
  {
   "cell_type": "markdown",
   "metadata": {},
   "source": [
    "AACT DB is a PostgreSQL database. Use R package `RPostgreSQL`."
   ]
  },
  {
   "cell_type": "code",
   "execution_count": 74,
   "metadata": {},
   "outputs": [],
   "source": [
    "library(RPostgreSQL)"
   ]
  },
  {
   "cell_type": "markdown",
   "metadata": {},
   "source": [
    "Parameters to connect to AACT DB:"
   ]
  },
  {
   "cell_type": "code",
   "execution_count": 75,
   "metadata": {},
   "outputs": [],
   "source": [
    "host <- \"aact-db.ctti-clinicaltrials.org\"\n",
    "port <- 5432\n",
    "user <- \"aact\"\n",
    "password <- \"aact\""
   ]
  },
  {
   "cell_type": "markdown",
   "metadata": {},
   "source": [
    "Connect to AACT DB:"
   ]
  },
  {
   "cell_type": "code",
   "execution_count": 76,
   "metadata": {},
   "outputs": [],
   "source": [
    "drv <- dbDriver('PostgreSQL')\n",
    "conn <- dbConnect(drv, dbname=\"aact\", host=host, port=port, \n",
    "                  user=user, password=password)"
   ]
  },
  {
   "cell_type": "markdown",
   "metadata": {},
   "source": [
    "---"
   ]
  },
  {
   "cell_type": "markdown",
   "metadata": {},
   "source": [
    "Now we can do some queries."
   ]
  },
  {
   "cell_type": "markdown",
   "metadata": {},
   "source": [
    "### Example 1: find CTs having BGB-A317 in title (table: `studies`)"
   ]
  },
  {
   "cell_type": "code",
   "execution_count": 77,
   "metadata": {},
   "outputs": [
    {
     "data": {
      "text/html": [
       "<table>\n",
       "<thead><tr><th scope=col>nct_id</th><th scope=col>brief_title</th></tr></thead>\n",
       "<tbody>\n",
       "\t<tr><td>NCT03379259                                                                                                                                               </td><td>Study of BGB-A333 Alone and in Combination With BGB-A317 in Advanced Solid Tumors                                                                         </td></tr>\n",
       "\t<tr><td>NCT03358875                                                                                                                                               </td><td>Comparison of Efficacy and Safety of Anti-PD-1 Antibody BGB-A317 Versus Docetaxel as Treatment in the Second- or Third-line Setting in Patients With NSCLC</td></tr>\n",
       "\t<tr><td>NCT03209973                                                                                                                                               </td><td>A Study of BGB-A317 as Monotherapy in Relapsed or Refractory Classical Hodgkin Lymphoma                                                                   </td></tr>\n",
       "\t<tr><td>NCT02795182                                                                                                                                               </td><td>BGB-3111 in Combination With BGB-A317 in Subjects With B-cell Malignancies                                                                                </td></tr>\n",
       "\t<tr><td>NCT02660034                                                                                                                                               </td><td>The Safety, Pharmacokinetics and Antitumor Activity of BGB-A317 in Combination With BGB-290 in Subjects With Advanced Solid Tumors                        </td></tr>\n",
       "\t<tr><td>NCT02407990                                                                                                                                               </td><td>Study of the Safety, Pharmacokinetics and Antitumor Activities of BGB-A317 in Subjects With Advanced Tumors                                               </td></tr>\n",
       "</tbody>\n",
       "</table>\n"
      ],
      "text/latex": [
       "\\begin{tabular}{r|ll}\n",
       " nct\\_id & brief\\_title\\\\\n",
       "\\hline\n",
       "\t NCT03379259                                                                                                                                                & Study of BGB-A333 Alone and in Combination With BGB-A317 in Advanced Solid Tumors                                                                         \\\\\n",
       "\t NCT03358875                                                                                                                                                & Comparison of Efficacy and Safety of Anti-PD-1 Antibody BGB-A317 Versus Docetaxel as Treatment in the Second- or Third-line Setting in Patients With NSCLC\\\\\n",
       "\t NCT03209973                                                                                                                                                & A Study of BGB-A317 as Monotherapy in Relapsed or Refractory Classical Hodgkin Lymphoma                                                                   \\\\\n",
       "\t NCT02795182                                                                                                                                                & BGB-3111 in Combination With BGB-A317 in Subjects With B-cell Malignancies                                                                                \\\\\n",
       "\t NCT02660034                                                                                                                                                & The Safety, Pharmacokinetics and Antitumor Activity of BGB-A317 in Combination With BGB-290 in Subjects With Advanced Solid Tumors                        \\\\\n",
       "\t NCT02407990                                                                                                                                                & Study of the Safety, Pharmacokinetics and Antitumor Activities of BGB-A317 in Subjects With Advanced Tumors                                               \\\\\n",
       "\\end{tabular}\n"
      ],
      "text/markdown": [
       "\n",
       "nct_id | brief_title | \n",
       "|---|---|---|---|---|---|\n",
       "| NCT03379259                                                                                                                                                | Study of BGB-A333 Alone and in Combination With BGB-A317 in Advanced Solid Tumors                                                                          | \n",
       "| NCT03358875                                                                                                                                                | Comparison of Efficacy and Safety of Anti-PD-1 Antibody BGB-A317 Versus Docetaxel as Treatment in the Second- or Third-line Setting in Patients With NSCLC | \n",
       "| NCT03209973                                                                                                                                                | A Study of BGB-A317 as Monotherapy in Relapsed or Refractory Classical Hodgkin Lymphoma                                                                    | \n",
       "| NCT02795182                                                                                                                                                | BGB-3111 in Combination With BGB-A317 in Subjects With B-cell Malignancies                                                                                 | \n",
       "| NCT02660034                                                                                                                                                | The Safety, Pharmacokinetics and Antitumor Activity of BGB-A317 in Combination With BGB-290 in Subjects With Advanced Solid Tumors                         | \n",
       "| NCT02407990                                                                                                                                                | Study of the Safety, Pharmacokinetics and Antitumor Activities of BGB-A317 in Subjects With Advanced Tumors                                                | \n",
       "\n",
       "\n"
      ],
      "text/plain": [
       "  nct_id     \n",
       "1 NCT03379259\n",
       "2 NCT03358875\n",
       "3 NCT03209973\n",
       "4 NCT02795182\n",
       "5 NCT02660034\n",
       "6 NCT02407990\n",
       "  brief_title                                                                                                                                               \n",
       "1 Study of BGB-A333 Alone and in Combination With BGB-A317 in Advanced Solid Tumors                                                                         \n",
       "2 Comparison of Efficacy and Safety of Anti-PD-1 Antibody BGB-A317 Versus Docetaxel as Treatment in the Second- or Third-line Setting in Patients With NSCLC\n",
       "3 A Study of BGB-A317 as Monotherapy in Relapsed or Refractory Classical Hodgkin Lymphoma                                                                   \n",
       "4 BGB-3111 in Combination With BGB-A317 in Subjects With B-cell Malignancies                                                                                \n",
       "5 The Safety, Pharmacokinetics and Antitumor Activity of BGB-A317 in Combination With BGB-290 in Subjects With Advanced Solid Tumors                        \n",
       "6 Study of the Safety, Pharmacokinetics and Antitumor Activities of BGB-A317 in Subjects With Advanced Tumors                                               "
      ]
     },
     "metadata": {},
     "output_type": "display_data"
    }
   ],
   "source": [
    "flds <- \"nct_id, brief_title\"\n",
    "tb <- \"studies\"\n",
    "qry <- paste(\"select\", flds, \n",
    "             \"from\", tb, \n",
    "             \"where brief_title like '%BGB-A317%'\")\n",
    "\n",
    "dbGetQuery(conn, statement = qry)"
   ]
  },
  {
   "cell_type": "markdown",
   "metadata": {},
   "source": [
    "### Example 2: find hospitals recruiting patients for BGB-A317 (table: `facilities`)"
   ]
  },
  {
   "cell_type": "code",
   "execution_count": 4,
   "metadata": {},
   "outputs": [
    {
     "data": {
      "text/html": [
       "<table>\n",
       "<thead><tr><th scope=col>id</th><th scope=col>nct_id</th><th scope=col>status</th><th scope=col>name</th><th scope=col>city</th><th scope=col>state</th><th scope=col>zip</th><th scope=col>country</th></tr></thead>\n",
       "<tbody>\n",
       "\t<tr><td>10047450                         </td><td>NCT03358875                      </td><td>Recruiting                       </td><td>Beijing Cancer Hospital          </td><td>Beijing                          </td><td>Beijing                          </td><td>100000                           </td><td>China                            </td></tr>\n",
       "\t<tr><td>10077393                         </td><td>NCT03209973                      </td><td>Recruiting                       </td><td>Beijing Cancer Hospital          </td><td>Beijing                          </td><td>Beijing                          </td><td>100142                           </td><td>China                            </td></tr>\n",
       "\t<tr><td>10077404                                               </td><td>NCT03209973                                            </td><td>Recruiting                                             </td><td>CAMS&amp;PUMC Institute of Hematology                  </td><td>Tianjin                                                </td><td><span style=white-space:pre-wrap>Tianjin        </span></td><td>300020                                                 </td><td><span style=white-space:pre-wrap>China    </span>      </td></tr>\n",
       "\t<tr><td>10211026                         </td><td>NCT02795182                      </td><td>Recruiting                       </td><td>Concord Hospital                 </td><td>Sydney                           </td><td>New South Wales                  </td><td>2139                             </td><td>Australia                        </td></tr>\n",
       "\t<tr><td>10211027                         </td><td>NCT02795182                      </td><td>Recruiting                       </td><td>Monash Hospital                  </td><td>Clayton                          </td><td>Victoria                         </td><td>3168                             </td><td>Australia                        </td></tr>\n",
       "</tbody>\n",
       "</table>\n"
      ],
      "text/latex": [
       "\\begin{tabular}{r|llllllll}\n",
       " id & nct\\_id & status & name & city & state & zip & country\\\\\n",
       "\\hline\n",
       "\t 10047450                          & NCT03358875                       & Recruiting                        & Beijing Cancer Hospital           & Beijing                           & Beijing                           & 100000                            & China                            \\\\\n",
       "\t 10077393                          & NCT03209973                       & Recruiting                        & Beijing Cancer Hospital           & Beijing                           & Beijing                           & 100142                            & China                            \\\\\n",
       "\t 10077404                            & NCT03209973                         & Recruiting                          & CAMS\\&PUMC Institute of Hematology & Tianjin                             & Tianjin                             & 300020                              & China                              \\\\\n",
       "\t 10211026                          & NCT02795182                       & Recruiting                        & Concord Hospital                  & Sydney                            & New South Wales                   & 2139                              & Australia                        \\\\\n",
       "\t 10211027                          & NCT02795182                       & Recruiting                        & Monash Hospital                   & Clayton                           & Victoria                          & 3168                              & Australia                        \\\\\n",
       "\\end{tabular}\n"
      ],
      "text/markdown": [
       "\n",
       "id | nct_id | status | name | city | state | zip | country | \n",
       "|---|---|---|---|---|\n",
       "| 10047450                          | NCT03358875                       | Recruiting                        | Beijing Cancer Hospital           | Beijing                           | Beijing                           | 100000                            | China                             | \n",
       "| 10077393                          | NCT03209973                       | Recruiting                        | Beijing Cancer Hospital           | Beijing                           | Beijing                           | 100142                            | China                             | \n",
       "| 10077404                          | NCT03209973                       | Recruiting                        | CAMS&PUMC Institute of Hematology | Tianjin                           | Tianjin                           | 300020                            | China                             | \n",
       "| 10211026                          | NCT02795182                       | Recruiting                        | Concord Hospital                  | Sydney                            | New South Wales                   | 2139                              | Australia                         | \n",
       "| 10211027                          | NCT02795182                       | Recruiting                        | Monash Hospital                   | Clayton                           | Victoria                          | 3168                              | Australia                         | \n",
       "\n",
       "\n"
      ],
      "text/plain": [
       "  id       nct_id      status     name                              city   \n",
       "1 10047450 NCT03358875 Recruiting Beijing Cancer Hospital           Beijing\n",
       "2 10077393 NCT03209973 Recruiting Beijing Cancer Hospital           Beijing\n",
       "3 10077404 NCT03209973 Recruiting CAMS&PUMC Institute of Hematology Tianjin\n",
       "4 10211026 NCT02795182 Recruiting Concord Hospital                  Sydney \n",
       "5 10211027 NCT02795182 Recruiting Monash Hospital                   Clayton\n",
       "  state           zip    country  \n",
       "1 Beijing         100000 China    \n",
       "2 Beijing         100142 China    \n",
       "3 Tianjin         300020 China    \n",
       "4 New South Wales 2139   Australia\n",
       "5 Victoria        3168   Australia"
      ]
     },
     "metadata": {},
     "output_type": "display_data"
    }
   ],
   "source": [
    "qry <- paste(\"select facilities.* from facilities, interventions\",\n",
    "             \"where facilities.nct_id = interventions.nct_id\",\n",
    "             \"and interventions.name = 'BGB-A317'\", \n",
    "             \"and facilities.status = 'Recruiting'\",\n",
    "             \"limit 5\")\n",
    "dbGetQuery(conn, statement = qry)"
   ]
  },
  {
   "cell_type": "markdown",
   "metadata": {},
   "source": [
    "### Example 3: get eligibility of a clinical trial (table: `eligibilities`)"
   ]
  },
  {
   "cell_type": "code",
   "execution_count": 9,
   "metadata": {},
   "outputs": [
    {
     "data": {
      "text/html": [
       "<table>\n",
       "<thead><tr><th scope=col>id</th><th scope=col>nct_id</th><th scope=col>sampling_method</th><th scope=col>gender</th><th scope=col>minimum_age</th><th scope=col>maximum_age</th><th scope=col>healthy_volunteers</th><th scope=col>population</th><th scope=col>criteria</th><th scope=col>gender_description</th><th scope=col>gender_based</th></tr></thead>\n",
       "<tbody>\n",
       "\t<tr><td>1332905                                                                                                                                                                                                                                                                                                                                                                                                                                                                                                                                                                                                                                                                                                                                                                                                                                                                                                                                                                                                                                                                                                                                                                                                                                                                                                                                                                                                                                                                                                                                                                                                                                                                                                                                                                                                                                                                                                                                                                                                                                                                                                                                                                                                                                 </td><td>NCT03358875                                                                                                                                                                                                                                                                                                                                                                                                                                                                                                                                                                                                                                                                                                                                                                                                                                                                                                                                                                                                                                                                                                                                                                                                                                                                                                                                                                                                                                                                                                                                                                                                                                                                                                                                                                                                                                                                                                                                                                                                                                                                                                                                                                                                                             </td><td>                                                                                                                                                                                                                                                                                                                                                                                                                                                                                                                                                                                                                                                                                                                                                                                                                                                                                                                                                                                                                                                                                                                                                                                                                                                                                                                                                                                                                                                                                                                                                                                                                                                                                                                                                                                                                                                                                                                                                                                                                                                                                                                                                                                                                                        </td><td>All                                                                                                                                                                                                                                                                                                                                                                                                                                                                                                                                                                                                                                                                                                                                                                                                                                                                                                                                                                                                                                                                                                                                                                                                                                                                                                                                                                                                                                                                                                                                                                                                                                                                                                                                                                                                                                                                                                                                                                                                                                                                                                                                                                                                                                     </td><td>18 Years                                                                                                                                                                                                                                                                                                                                                                                                                                                                                                                                                                                                                                                                                                                                                                                                                                                                                                                                                                                                                                                                                                                                                                                                                                                                                                                                                                                                                                                                                                                                                                                                                                                                                                                                                                                                                                                                                                                                                                                                                                                                                                                                                                                                                                </td><td>N/A                                                                                                                                                                                                                                                                                                                                                                                                                                                                                                                                                                                                                                                                                                                                                                                                                                                                                                                                                                                                                                                                                                                                                                                                                                                                                                                                                                                                                                                                                                                                                                                                                                                                                                                                                                                                                                                                                                                                                                                                                                                                                                                                                                                                                                     </td><td>No                                                                                                                                                                                                                                                                                                                                                                                                                                                                                                                                                                                                                                                                                                                                                                                                                                                                                                                                                                                                                                                                                                                                                                                                                                                                                                                                                                                                                                                                                                                                                                                                                                                                                                                                                                                                                                                                                                                                                                                                                                                                                                                                                                                                                                      </td><td>                                                                                                                                                                                                                                                                                                                                                                                                                                                                                                                                                                                                                                                                                                                                                                                                                                                                                                                                                                                                                                                                                                                                                                                                                                                                                                                                                                                                                                                                                                                                                                                                                                                                                                                                                                                                                                                                                                                                                                                                                                                                                                                                                                                                                                        </td><td>\n",
       "        Inclusion Criteria:\n",
       "\n",
       "        Able to provide written informed consent and can understand and comply with the\n",
       "        requirements of the study.\n",
       "\n",
       "          1. Age18 years.\n",
       "\n",
       "          2. Signed Informed Consent Form.\n",
       "\n",
       "          3. Histologically confirmed locally advanced or metastatic (Stage IIIB or IV) NSCLC with\n",
       "             disease progression during or following treatment with at least one\n",
       "             platinum-containing regimen, but no more than 2 lines of systemic therapy.\n",
       "\n",
       "          4. Subjects must be able to provide fresh or archival tumor tissues for central\n",
       "             assessment of PD-L1 expression in tumor cells.\n",
       "\n",
       "          5. Eastern Cooperative Oncology Group (ECOG) performance status ≤ 1.\n",
       "\n",
       "          6. Adequate hematologic and end-organ function.\n",
       "\n",
       "        Exclusion Criteria:\n",
       "\n",
       "          1. Prior therapies of docetaxel or treatment targeting PD-1, PD-L1 or CTLA-4.\n",
       "\n",
       "          2. Harboring EGFR sensitizing mutation or ALK gene translocation.\n",
       "\n",
       "          3. Unresolved acute effects of prior therapy of Grade 2-5, except for AEs (e.g. alopecia,\n",
       "             neuropathy, specific lab abnormalities) not constituting a likely safety risk.\n",
       "\n",
       "          4. History of severe hypersensitivity reactions to other mAbs.\n",
       "\n",
       "          5. History of interstitial lung disease or non-infectious pneumonitis, except for those\n",
       "             induced by radiation therapies.\n",
       "\n",
       "          6. With uncontrollable pleural effusion, pericardial effusion, or clinically significant\n",
       "             ascites requiring interventional treatment.\n",
       "\n",
       "          7. Diagnosis of other malignancies with some exceptions.\n",
       "\n",
       "          8. Active infection requiring systemic treatment, known HIV infection, subjects with\n",
       "             untreated chronic hepatitis B or chronic HBV, active vaccination treatment.\n",
       "\n",
       "          9. Insufficient cardiac functions and other underlying unfavorable conditions.\n",
       "\n",
       "         10. Prior allogeneic stem cell transplantation or organ transplantation.\n",
       "\n",
       "         11. Active autoimmune diseases or history of autoimmune diseases that may relapse should\n",
       "             be excluded.\n",
       "      </td><td>                                                                                                                                                                                                                                                                                                                                                                                                                                                                                                                                                                                                                                                                                                                                                                                                                                                                                                                                                                                                                                                                                                                                                                                                                                                                                                                                                                                                                                                                                                                                                                                                                                                                                                                                                                                                                                                                                                                                                                                                                                                                                                                                                                                                                                        </td><td>NA                                                                                                                                                                                                                                                                                                                                                                                                                                                                                                                                                                                                                                                                                                                                                                                                                                                                                                                                                                                                                                                                                                                                                                                                                                                                                                                                                                                                                                                                                                                                                                                                                                                                                                                                                                                                                                                                                                                                                                                                                                                                                                                                                                                                                                      </td></tr>\n",
       "</tbody>\n",
       "</table>\n"
      ],
      "text/latex": [
       "\\begin{tabular}{r|lllllllllll}\n",
       " id & nct\\_id & sampling\\_method & gender & minimum\\_age & maximum\\_age & healthy\\_volunteers & population & criteria & gender\\_description & gender\\_based\\\\\n",
       "\\hline\n",
       "\t 1332905                                                                                                                                                                                                                                                                                                                                                                                                                                                                                                                                                                                                                                                                                                                                                                                                                                                                                                                                                                                                                                                                                                                                                                                                                                                                                                                                                                                                                                                                                                                                                                                                                                                                                                                                                                                                                                                                                                                                                                                                                                                                                                                                                                                                                                  & NCT03358875                                                                                                                                                                                                                                                                                                                                                                                                                                                                                                                                                                                                                                                                                                                                                                                                                                                                                                                                                                                                                                                                                                                                                                                                                                                                                                                                                                                                                                                                                                                                                                                                                                                                                                                                                                                                                                                                                                                                                                                                                                                                                                                                                                                                                              &                                                                                                                                                                                                                                                                                                                                                                                                                                                                                                                                                                                                                                                                                                                                                                                                                                                                                                                                                                                                                                                                                                                                                                                                                                                                                                                                                                                                                                                                                                                                                                                                                                                                                                                                                                                                                                                                                                                                                                                                                                                                                                                                                                                                                                          & All                                                                                                                                                                                                                                                                                                                                                                                                                                                                                                                                                                                                                                                                                                                                                                                                                                                                                                                                                                                                                                                                                                                                                                                                                                                                                                                                                                                                                                                                                                                                                                                                                                                                                                                                                                                                                                                                                                                                                                                                                                                                                                                                                                                                                                      & 18 Years                                                                                                                                                                                                                                                                                                                                                                                                                                                                                                                                                                                                                                                                                                                                                                                                                                                                                                                                                                                                                                                                                                                                                                                                                                                                                                                                                                                                                                                                                                                                                                                                                                                                                                                                                                                                                                                                                                                                                                                                                                                                                                                                                                                                                                 & N/A                                                                                                                                                                                                                                                                                                                                                                                                                                                                                                                                                                                                                                                                                                                                                                                                                                                                                                                                                                                                                                                                                                                                                                                                                                                                                                                                                                                                                                                                                                                                                                                                                                                                                                                                                                                                                                                                                                                                                                                                                                                                                                                                                                                                                                      & No                                                                                                                                                                                                                                                                                                                                                                                                                                                                                                                                                                                                                                                                                                                                                                                                                                                                                                                                                                                                                                                                                                                                                                                                                                                                                                                                                                                                                                                                                                                                                                                                                                                                                                                                                                                                                                                                                                                                                                                                                                                                                                                                                                                                                                       &                                                                                                                                                                                                                                                                                                                                                                                                                                                                                                                                                                                                                                                                                                                                                                                                                                                                                                                                                                                                                                                                                                                                                                                                                                                                                                                                                                                                                                                                                                                                                                                                                                                                                                                                                                                                                                                                                                                                                                                                                                                                                                                                                                                                                                          & \n",
       "        Inclusion Criteria:\n",
       "\n",
       "        Able to provide written informed consent and can understand and comply with the\n",
       "        requirements of the study.\n",
       "\n",
       "          1. Age18 years.\n",
       "\n",
       "          2. Signed Informed Consent Form.\n",
       "\n",
       "          3. Histologically confirmed locally advanced or metastatic (Stage IIIB or IV) NSCLC with\n",
       "             disease progression during or following treatment with at least one\n",
       "             platinum-containing regimen, but no more than 2 lines of systemic therapy.\n",
       "\n",
       "          4. Subjects must be able to provide fresh or archival tumor tissues for central\n",
       "             assessment of PD-L1 expression in tumor cells.\n",
       "\n",
       "          5. Eastern Cooperative Oncology Group (ECOG) performance status ≤ 1.\n",
       "\n",
       "          6. Adequate hematologic and end-organ function.\n",
       "\n",
       "        Exclusion Criteria:\n",
       "\n",
       "          1. Prior therapies of docetaxel or treatment targeting PD-1, PD-L1 or CTLA-4.\n",
       "\n",
       "          2. Harboring EGFR sensitizing mutation or ALK gene translocation.\n",
       "\n",
       "          3. Unresolved acute effects of prior therapy of Grade 2-5, except for AEs (e.g. alopecia,\n",
       "             neuropathy, specific lab abnormalities) not constituting a likely safety risk.\n",
       "\n",
       "          4. History of severe hypersensitivity reactions to other mAbs.\n",
       "\n",
       "          5. History of interstitial lung disease or non-infectious pneumonitis, except for those\n",
       "             induced by radiation therapies.\n",
       "\n",
       "          6. With uncontrollable pleural effusion, pericardial effusion, or clinically significant\n",
       "             ascites requiring interventional treatment.\n",
       "\n",
       "          7. Diagnosis of other malignancies with some exceptions.\n",
       "\n",
       "          8. Active infection requiring systemic treatment, known HIV infection, subjects with\n",
       "             untreated chronic hepatitis B or chronic HBV, active vaccination treatment.\n",
       "\n",
       "          9. Insufficient cardiac functions and other underlying unfavorable conditions.\n",
       "\n",
       "         10. Prior allogeneic stem cell transplantation or organ transplantation.\n",
       "\n",
       "         11. Active autoimmune diseases or history of autoimmune diseases that may relapse should\n",
       "             be excluded.\n",
       "       &                                                                                                                                                                                                                                                                                                                                                                                                                                                                                                                                                                                                                                                                                                                                                                                                                                                                                                                                                                                                                                                                                                                                                                                                                                                                                                                                                                                                                                                                                                                                                                                                                                                                                                                                                                                                                                                                                                                                                                                                                                                                                                                                                                                                                                          & NA                                                                                                                                                                                                                                                                                                                                                                                                                                                                                                                                                                                                                                                                                                                                                                                                                                                                                                                                                                                                                                                                                                                                                                                                                                                                                                                                                                                                                                                                                                                                                                                                                                                                                                                                                                                                                                                                                                                                                                                                                                                                                                                                                                                                                                      \\\\\n",
       "\\end{tabular}\n"
      ],
      "text/markdown": [
       "\n",
       "id | nct_id | sampling_method | gender | minimum_age | maximum_age | healthy_volunteers | population | criteria | gender_description | gender_based | \n",
       "|---|\n",
       "| 1332905                                                                                                                                                                                                                                                                                                                                                                                                                                                                                                                                                                                                                                                                                                                                                                                                                                                                                                                                                                                                                                                                                                                                                                                                                                                                                                                                                                                                                                                                                                                                                                                                                                                                                                                                                                                                                                                                                                                                                                                                                                                                                                                                                                                                                                  | NCT03358875                                                                                                                                                                                                                                                                                                                                                                                                                                                                                                                                                                                                                                                                                                                                                                                                                                                                                                                                                                                                                                                                                                                                                                                                                                                                                                                                                                                                                                                                                                                                                                                                                                                                                                                                                                                                                                                                                                                                                                                                                                                                                                                                                                                                                              |                                                                                                                                                                                                                                                                                                                                                                                                                                                                                                                                                                                                                                                                                                                                                                                                                                                                                                                                                                                                                                                                                                                                                                                                                                                                                                                                                                                                                                                                                                                                                                                                                                                                                                                                                                                                                                                                                                                                                                                                                                                                                                                                                                                                                                          | All                                                                                                                                                                                                                                                                                                                                                                                                                                                                                                                                                                                                                                                                                                                                                                                                                                                                                                                                                                                                                                                                                                                                                                                                                                                                                                                                                                                                                                                                                                                                                                                                                                                                                                                                                                                                                                                                                                                                                                                                                                                                                                                                                                                                                                      | 18 Years                                                                                                                                                                                                                                                                                                                                                                                                                                                                                                                                                                                                                                                                                                                                                                                                                                                                                                                                                                                                                                                                                                                                                                                                                                                                                                                                                                                                                                                                                                                                                                                                                                                                                                                                                                                                                                                                                                                                                                                                                                                                                                                                                                                                                                 | N/A                                                                                                                                                                                                                                                                                                                                                                                                                                                                                                                                                                                                                                                                                                                                                                                                                                                                                                                                                                                                                                                                                                                                                                                                                                                                                                                                                                                                                                                                                                                                                                                                                                                                                                                                                                                                                                                                                                                                                                                                                                                                                                                                                                                                                                      | No                                                                                                                                                                                                                                                                                                                                                                                                                                                                                                                                                                                                                                                                                                                                                                                                                                                                                                                                                                                                                                                                                                                                                                                                                                                                                                                                                                                                                                                                                                                                                                                                                                                                                                                                                                                                                                                                                                                                                                                                                                                                                                                                                                                                                                       |                                                                                                                                                                                                                                                                                                                                                                                                                                                                                                                                                                                                                                                                                                                                                                                                                                                                                                                                                                                                                                                                                                                                                                                                                                                                                                                                                                                                                                                                                                                                                                                                                                                                                                                                                                                                                                                                                                                                                                                                                                                                                                                                                                                                                                          | \n",
       "        Inclusion Criteria:\n",
       "\n",
       "        Able to provide written informed consent and can understand and comply with the\n",
       "        requirements of the study.\n",
       "\n",
       "          1. Age18 years.\n",
       "\n",
       "          2. Signed Informed Consent Form.\n",
       "\n",
       "          3. Histologically confirmed locally advanced or metastatic (Stage IIIB or IV) NSCLC with\n",
       "             disease progression during or following treatment with at least one\n",
       "             platinum-containing regimen, but no more than 2 lines of systemic therapy.\n",
       "\n",
       "          4. Subjects must be able to provide fresh or archival tumor tissues for central\n",
       "             assessment of PD-L1 expression in tumor cells.\n",
       "\n",
       "          5. Eastern Cooperative Oncology Group (ECOG) performance status ≤ 1.\n",
       "\n",
       "          6. Adequate hematologic and end-organ function.\n",
       "\n",
       "        Exclusion Criteria:\n",
       "\n",
       "          1. Prior therapies of docetaxel or treatment targeting PD-1, PD-L1 or CTLA-4.\n",
       "\n",
       "          2. Harboring EGFR sensitizing mutation or ALK gene translocation.\n",
       "\n",
       "          3. Unresolved acute effects of prior therapy of Grade 2-5, except for AEs (e.g. alopecia,\n",
       "             neuropathy, specific lab abnormalities) not constituting a likely safety risk.\n",
       "\n",
       "          4. History of severe hypersensitivity reactions to other mAbs.\n",
       "\n",
       "          5. History of interstitial lung disease or non-infectious pneumonitis, except for those\n",
       "             induced by radiation therapies.\n",
       "\n",
       "          6. With uncontrollable pleural effusion, pericardial effusion, or clinically significant\n",
       "             ascites requiring interventional treatment.\n",
       "\n",
       "          7. Diagnosis of other malignancies with some exceptions.\n",
       "\n",
       "          8. Active infection requiring systemic treatment, known HIV infection, subjects with\n",
       "             untreated chronic hepatitis B or chronic HBV, active vaccination treatment.\n",
       "\n",
       "          9. Insufficient cardiac functions and other underlying unfavorable conditions.\n",
       "\n",
       "         10. Prior allogeneic stem cell transplantation or organ transplantation.\n",
       "\n",
       "         11. Active autoimmune diseases or history of autoimmune diseases that may relapse should\n",
       "             be excluded.\n",
       "       |                                                                                                                                                                                                                                                                                                                                                                                                                                                                                                                                                                                                                                                                                                                                                                                                                                                                                                                                                                                                                                                                                                                                                                                                                                                                                                                                                                                                                                                                                                                                                                                                                                                                                                                                                                                                                                                                                                                                                                                                                                                                                                                                                                                                                                          | NA                                                                                                                                                                                                                                                                                                                                                                                                                                                                                                                                                                                                                                                                                                                                                                                                                                                                                                                                                                                                                                                                                                                                                                                                                                                                                                                                                                                                                                                                                                                                                                                                                                                                                                                                                                                                                                                                                                                                                                                                                                                                                                                                                                                                                                       | \n",
       "\n",
       "\n"
      ],
      "text/plain": [
       "  id      nct_id      sampling_method gender minimum_age maximum_age\n",
       "1 1332905 NCT03358875                 All    18 Years    N/A        \n",
       "  healthy_volunteers population\n",
       "1 No                           \n",
       "  criteria                                                                                                                                                                                                                                                                                                                                                                                                                                                                                                                                                                                                                                                                                                                                                                                                                                                                                                                                                                                                                                                                                                                                                                                                                                                                                                                                                                                                                                                                                                                                                                                                                                                                                                                                                                                                                                                                                                                                                                                                                                                                                                                                                                                                                                \n",
       "1 \\n        Inclusion Criteria:\\n\\n        Able to provide written informed consent and can understand and comply with the\\n        requirements of the study.\\n\\n          1. Age18 years.\\n\\n          2. Signed Informed Consent Form.\\n\\n          3. Histologically confirmed locally advanced or metastatic (Stage IIIB or IV) NSCLC with\\n             disease progression during or following treatment with at least one\\n             platinum-containing regimen, but no more than 2 lines of systemic therapy.\\n\\n          4. Subjects must be able to provide fresh or archival tumor tissues for central\\n             assessment of PD-L1 expression in tumor cells.\\n\\n          5. Eastern Cooperative Oncology Group (ECOG) performance status ≤ 1.\\n\\n          6. Adequate hematologic and end-organ function.\\n\\n        Exclusion Criteria:\\n\\n          1. Prior therapies of docetaxel or treatment targeting PD-1, PD-L1 or CTLA-4.\\n\\n          2. Harboring EGFR sensitizing mutation or ALK gene translocation.\\n\\n          3. Unresolved acute effects of prior therapy of Grade 2-5, except for AEs (e.g. alopecia,\\n             neuropathy, specific lab abnormalities) not constituting a likely safety risk.\\n\\n          4. History of severe hypersensitivity reactions to other mAbs.\\n\\n          5. History of interstitial lung disease or non-infectious pneumonitis, except for those\\n             induced by radiation therapies.\\n\\n          6. With uncontrollable pleural effusion, pericardial effusion, or clinically significant\\n             ascites requiring interventional treatment.\\n\\n          7. Diagnosis of other malignancies with some exceptions.\\n\\n          8. Active infection requiring systemic treatment, known HIV infection, subjects with\\n             untreated chronic hepatitis B or chronic HBV, active vaccination treatment.\\n\\n          9. Insufficient cardiac functions and other underlying unfavorable conditions.\\n\\n         10. Prior allogeneic stem cell transplantation or organ transplantation.\\n\\n         11. Active autoimmune diseases or history of autoimmune diseases that may relapse should\\n             be excluded.\\n      \n",
       "  gender_description gender_based\n",
       "1                    NA          "
      ]
     },
     "metadata": {},
     "output_type": "display_data"
    }
   ],
   "source": [
    "nctid <- \"'NCT03358875'\"\n",
    "qry <- paste(\"select * from eligibilities\", \n",
    "             \"where nct_id = \", nctid)\n",
    "dbGetQuery(conn, statement = qry)"
   ]
  },
  {
   "cell_type": "markdown",
   "metadata": {},
   "source": [
    "The inclusion and exclusion is both in the field `criteria`."
   ]
  },
  {
   "cell_type": "markdown",
   "metadata": {},
   "source": [
    "### Example 4: get conditions for a trial (table: `conditions`)"
   ]
  },
  {
   "cell_type": "code",
   "execution_count": 20,
   "metadata": {
    "scrolled": true
   },
   "outputs": [
    {
     "data": {
      "text/html": [
       "<table>\n",
       "<thead><tr><th scope=col>id</th><th scope=col>nct_id</th><th scope=col>name</th><th scope=col>downcase_name</th></tr></thead>\n",
       "<tbody>\n",
       "\t<tr><td>2163654                   </td><td>NCT03358875               </td><td>Non-small Cell Lung Cancer</td><td>non-small cell lung cancer</td></tr>\n",
       "\t<tr><td>2250816                   </td><td>NCT02660034               </td><td>Solid Tumors              </td><td>solid tumors              </td></tr>\n",
       "</tbody>\n",
       "</table>\n"
      ],
      "text/latex": [
       "\\begin{tabular}{r|llll}\n",
       " id & nct\\_id & name & downcase\\_name\\\\\n",
       "\\hline\n",
       "\t 2163654                    & NCT03358875                & Non-small Cell Lung Cancer & non-small cell lung cancer\\\\\n",
       "\t 2250816                    & NCT02660034                & Solid Tumors               & solid tumors              \\\\\n",
       "\\end{tabular}\n"
      ],
      "text/markdown": [
       "\n",
       "id | nct_id | name | downcase_name | \n",
       "|---|---|\n",
       "| 2163654                    | NCT03358875                | Non-small Cell Lung Cancer | non-small cell lung cancer | \n",
       "| 2250816                    | NCT02660034                | Solid Tumors               | solid tumors               | \n",
       "\n",
       "\n"
      ],
      "text/plain": [
       "  id      nct_id      name                       downcase_name             \n",
       "1 2163654 NCT03358875 Non-small Cell Lung Cancer non-small cell lung cancer\n",
       "2 2250816 NCT02660034 Solid Tumors               solid tumors              "
      ]
     },
     "metadata": {},
     "output_type": "display_data"
    }
   ],
   "source": [
    "nctid <- c(\"'NCT03358875'\", \"'NCT02660034'\")\n",
    "nctidstr <- sprintf(\"(%s)\", paste(nctid, collapse =\",\"))\n",
    "qry <- paste(\"select * from conditions\", \n",
    "             \"where nct_id in \", nctidstr)\n",
    "dbGetQuery(conn, statement = qry)"
   ]
  },
  {
   "cell_type": "markdown",
   "metadata": {},
   "source": [
    "### Example 5: example records for each table"
   ]
  },
  {
   "cell_type": "code",
   "execution_count": 78,
   "metadata": {},
   "outputs": [],
   "source": [
    "tbs <- c(\"baseline_counts\", \"baseline_measurements\", \"Brief_Summaries\", \"Browse_Conditions\", \n",
    "         \"Browse_Interventions\", \"Calculated_Values\", \"Central_Contacts\", \"Conditions\", \n",
    "         \"Countries\", \"Design_Group_Interventions\", \"Design_Groups\", \"Design_Outcomes\", \n",
    "         \"Designs\",\"Detailed_Descriptions\", \"Drop_Withdrawals\", \"Eligibilities\", \n",
    "         \"Facilities\", \"Facility_Contacts\", \"Facility_Investigators\", \"Id_Information\",\n",
    "         \"Intervention_Other_Names\", \"Interventions\", \"Keywords\", \"Links\", \"Milestones\",\n",
    "         \"Outcome_Analyses\", \"Outcome_Analysis_Groups\", \"Outcome_Counts\", \"Outcome_Measurements\",\n",
    "         \"Outcomes\", \"Overall_Officials\", \"Participant_Flows\", \"Reported_Events\", \"Responsible_Parties\",\n",
    "         \"Result_Agreements\", \"Result_Contacts\", \"Result_Groups\", \"Sponsors\", \"Studies\", \"Study_References\")"
   ]
  },
  {
   "cell_type": "code",
   "execution_count": 113,
   "metadata": {},
   "outputs": [
    {
     "data": {
      "text/html": [
       "'Study_References'"
      ],
      "text/latex": [
       "'Study\\_References'"
      ],
      "text/markdown": [
       "'Study_References'"
      ],
      "text/plain": [
       "[1] \"Study_References\""
      ]
     },
     "metadata": {},
     "output_type": "display_data"
    },
    {
     "data": {
      "text/html": [
       "<table>\n",
       "<thead><tr><th scope=col>id</th><th scope=col>nct_id</th><th scope=col>pmid</th><th scope=col>reference_type</th><th scope=col>citation</th></tr></thead>\n",
       "<tbody>\n",
       "\t<tr><td>1638460                                                                                                                                                                                                                                                                                                   </td><td>NCT03243396                                                                                                                                                                                                                                                                                               </td><td>NA                                                                                                                                                                                                                                                                                                        </td><td>reference                                                                                                                                                                                                                                                                                                 </td><td>Kenyan National Assembly. Mental Health Bill.; 2014.                                                                                                                                                                                                                                                      </td></tr>\n",
       "\t<tr><td>1618648                                                                                                                                                                                                                                                                                                   </td><td>NCT03394495                                                                                                                                                                                                                                                                                               </td><td>NA                                                                                                                                                                                                                                                                                                        </td><td>reference                                                                                                                                                                                                                                                                                                 </td><td>Rikli R, Jones C. Development and validation of a functional fitness test for community-residing older adults. J Aging Phys Act. 1999; 7(2): 129 - 61.                                                                                                                                                    </td></tr>\n",
       "\t<tr><td>1618030                                                                                                                                                                                                                                                                                                   </td><td>NCT03398746                                                                                                                                                                                                                                                                                               </td><td>25435407                                                                                                                                                                                                                                                                                                  </td><td>reference                                                                                                                                                                                                                                                                                                 </td><td>Ladde JG, Baker S, Rodgers CN, Papa L. The LOOP technique: a novel incision and drainage technique in the treatment of skin abscesses in a pediatric ED. Am J Emerg Med. 2015 Feb;33(2):271-6. doi: 10.1016/j.ajem.2014.10.014. Epub 2014 Oct 16.                                                         </td></tr>\n",
       "\t<tr><td>1618031                                                                                                                                                                                                                                                                                                   </td><td>NCT03398733                                                                                                                                                                                                                                                                                               </td><td>27448416                                                                                                                                                                                                                                                                                                  </td><td>reference                                                                                                                                                                                                                                                                                                 </td><td>Ding N, Ni BQ, Wang H, Ding WX, Xue R, Lin W, Kai Z, Zhang SJ, Zhang XL. Obstructive Sleep Apnea Increases the Perioperative Risk of Cardiac Valve Replacement Surgery: A Prospective Single-Center Study. J Clin Sleep Med. 2016 Oct 15;12(10):1331-1337.                                                </td></tr>\n",
       "\t<tr><td>1618032                                                                                                                                                                                                                                                                                                   </td><td>NCT03398707                                                                                                                                                                                                                                                                                               </td><td>18766102                                                                                                                                                                                                                                                                                                  </td><td>reference                                                                                                                                                                                                                                                                                                 </td><td>Wunsch H, Angus DC, Harrison DA, Collange O, Fowler R, Hoste EA, de Keizer NF, Kersten A, Linde-Zwirble WT, Sandiumenge A, Rowan KM. Variation in critical care services across North America and Western Europe. Crit Care Med. 2008 Oct;36(10):2787-93, e1-9. doi: 10.1097/CCM.0b013e318186aec8. Review.</td></tr>\n",
       "</tbody>\n",
       "</table>\n"
      ],
      "text/latex": [
       "\\begin{tabular}{r|lllll}\n",
       " id & nct\\_id & pmid & reference\\_type & citation\\\\\n",
       "\\hline\n",
       "\t 1638460                                                                                                                                                                                                                                                                                                    & NCT03243396                                                                                                                                                                                                                                                                                                & NA                                                                                                                                                                                                                                                                                                         & reference                                                                                                                                                                                                                                                                                                  & Kenyan National Assembly. Mental Health Bill.; 2014.                                                                                                                                                                                                                                                      \\\\\n",
       "\t 1618648                                                                                                                                                                                                                                                                                                    & NCT03394495                                                                                                                                                                                                                                                                                                & NA                                                                                                                                                                                                                                                                                                         & reference                                                                                                                                                                                                                                                                                                  & Rikli R, Jones C. Development and validation of a functional fitness test for community-residing older adults. J Aging Phys Act. 1999; 7(2): 129 - 61.                                                                                                                                                    \\\\\n",
       "\t 1618030                                                                                                                                                                                                                                                                                                    & NCT03398746                                                                                                                                                                                                                                                                                                & 25435407                                                                                                                                                                                                                                                                                                   & reference                                                                                                                                                                                                                                                                                                  & Ladde JG, Baker S, Rodgers CN, Papa L. The LOOP technique: a novel incision and drainage technique in the treatment of skin abscesses in a pediatric ED. Am J Emerg Med. 2015 Feb;33(2):271-6. doi: 10.1016/j.ajem.2014.10.014. Epub 2014 Oct 16.                                                         \\\\\n",
       "\t 1618031                                                                                                                                                                                                                                                                                                    & NCT03398733                                                                                                                                                                                                                                                                                                & 27448416                                                                                                                                                                                                                                                                                                   & reference                                                                                                                                                                                                                                                                                                  & Ding N, Ni BQ, Wang H, Ding WX, Xue R, Lin W, Kai Z, Zhang SJ, Zhang XL. Obstructive Sleep Apnea Increases the Perioperative Risk of Cardiac Valve Replacement Surgery: A Prospective Single-Center Study. J Clin Sleep Med. 2016 Oct 15;12(10):1331-1337.                                                \\\\\n",
       "\t 1618032                                                                                                                                                                                                                                                                                                    & NCT03398707                                                                                                                                                                                                                                                                                                & 18766102                                                                                                                                                                                                                                                                                                   & reference                                                                                                                                                                                                                                                                                                  & Wunsch H, Angus DC, Harrison DA, Collange O, Fowler R, Hoste EA, de Keizer NF, Kersten A, Linde-Zwirble WT, Sandiumenge A, Rowan KM. Variation in critical care services across North America and Western Europe. Crit Care Med. 2008 Oct;36(10):2787-93, e1-9. doi: 10.1097/CCM.0b013e318186aec8. Review.\\\\\n",
       "\\end{tabular}\n"
      ],
      "text/markdown": [
       "\n",
       "id | nct_id | pmid | reference_type | citation | \n",
       "|---|---|---|---|---|\n",
       "| 1638460                                                                                                                                                                                                                                                                                                    | NCT03243396                                                                                                                                                                                                                                                                                                | NA                                                                                                                                                                                                                                                                                                         | reference                                                                                                                                                                                                                                                                                                  | Kenyan National Assembly. Mental Health Bill.; 2014.                                                                                                                                                                                                                                                       | \n",
       "| 1618648                                                                                                                                                                                                                                                                                                    | NCT03394495                                                                                                                                                                                                                                                                                                | NA                                                                                                                                                                                                                                                                                                         | reference                                                                                                                                                                                                                                                                                                  | Rikli R, Jones C. Development and validation of a functional fitness test for community-residing older adults. J Aging Phys Act. 1999; 7(2): 129 - 61.                                                                                                                                                     | \n",
       "| 1618030                                                                                                                                                                                                                                                                                                    | NCT03398746                                                                                                                                                                                                                                                                                                | 25435407                                                                                                                                                                                                                                                                                                   | reference                                                                                                                                                                                                                                                                                                  | Ladde JG, Baker S, Rodgers CN, Papa L. The LOOP technique: a novel incision and drainage technique in the treatment of skin abscesses in a pediatric ED. Am J Emerg Med. 2015 Feb;33(2):271-6. doi: 10.1016/j.ajem.2014.10.014. Epub 2014 Oct 16.                                                          | \n",
       "| 1618031                                                                                                                                                                                                                                                                                                    | NCT03398733                                                                                                                                                                                                                                                                                                | 27448416                                                                                                                                                                                                                                                                                                   | reference                                                                                                                                                                                                                                                                                                  | Ding N, Ni BQ, Wang H, Ding WX, Xue R, Lin W, Kai Z, Zhang SJ, Zhang XL. Obstructive Sleep Apnea Increases the Perioperative Risk of Cardiac Valve Replacement Surgery: A Prospective Single-Center Study. J Clin Sleep Med. 2016 Oct 15;12(10):1331-1337.                                                 | \n",
       "| 1618032                                                                                                                                                                                                                                                                                                    | NCT03398707                                                                                                                                                                                                                                                                                                | 18766102                                                                                                                                                                                                                                                                                                   | reference                                                                                                                                                                                                                                                                                                  | Wunsch H, Angus DC, Harrison DA, Collange O, Fowler R, Hoste EA, de Keizer NF, Kersten A, Linde-Zwirble WT, Sandiumenge A, Rowan KM. Variation in critical care services across North America and Western Europe. Crit Care Med. 2008 Oct;36(10):2787-93, e1-9. doi: 10.1097/CCM.0b013e318186aec8. Review. | \n",
       "\n",
       "\n"
      ],
      "text/plain": [
       "  id      nct_id      pmid     reference_type\n",
       "1 1638460 NCT03243396 NA       reference     \n",
       "2 1618648 NCT03394495 NA       reference     \n",
       "3 1618030 NCT03398746 25435407 reference     \n",
       "4 1618031 NCT03398733 27448416 reference     \n",
       "5 1618032 NCT03398707 18766102 reference     \n",
       "  citation                                                                                                                                                                                                                                                                                                  \n",
       "1 Kenyan National Assembly. Mental Health Bill.; 2014.                                                                                                                                                                                                                                                      \n",
       "2 Rikli R, Jones C. Development and validation of a functional fitness test for community-residing older adults. J Aging Phys Act. 1999; 7(2): 129 - 61.                                                                                                                                                    \n",
       "3 Ladde JG, Baker S, Rodgers CN, Papa L. The LOOP technique: a novel incision and drainage technique in the treatment of skin abscesses in a pediatric ED. Am J Emerg Med. 2015 Feb;33(2):271-6. doi: 10.1016/j.ajem.2014.10.014. Epub 2014 Oct 16.                                                         \n",
       "4 Ding N, Ni BQ, Wang H, Ding WX, Xue R, Lin W, Kai Z, Zhang SJ, Zhang XL. Obstructive Sleep Apnea Increases the Perioperative Risk of Cardiac Valve Replacement Surgery: A Prospective Single-Center Study. J Clin Sleep Med. 2016 Oct 15;12(10):1331-1337.                                                \n",
       "5 Wunsch H, Angus DC, Harrison DA, Collange O, Fowler R, Hoste EA, de Keizer NF, Kersten A, Linde-Zwirble WT, Sandiumenge A, Rowan KM. Variation in critical care services across North America and Western Europe. Crit Care Med. 2008 Oct;36(10):2787-93, e1-9. doi: 10.1097/CCM.0b013e318186aec8. Review."
      ]
     },
     "metadata": {},
     "output_type": "display_data"
    }
   ],
   "source": [
    "tb <- tbs[40]\n",
    "tb\n",
    "qry <- paste(\"select *\", \n",
    "             \"from\", tb, \n",
    "             \"limit 5\")\n",
    "dbGetQuery(conn, statement = qry)"
   ]
  },
  {
   "cell_type": "markdown",
   "metadata": {},
   "source": [
    "Notes taken in examine each table:\n",
    "\n",
    "- Many tables have \"downcase_\" column to ease the need for lower() or upper(). E.g. `Browse_Conditions`, `Browse_Interventions`, `Keywords`.\n",
    "- `Calculated_Values` contains some information that NLM calculated. E.g. \"has_us_facility\" can be used to assess if a CT is conducted in US or not.\n",
    "- `Conditions` is the original conditions listed, `Browse_conditions` is processed by NLM, see example 6.\n",
    "- Cross reference tables:\n",
    "    - `Design_Group_Interventions`: If a study has multiple groups and multiple interventions, this table shows which interventions are associated with which groups.\n",
    "    - `Intervention_Other_Names`: Other name(s) of an intervention.\n",
    "- Cross reference a trial's other id(s) in `id_information`: this table provides alias, organization's study id (`id_type = 'org_study_id'`) or other organization's id (`id_type = secondary_id`, e.g. EudraCT Number).\n",
    "- Outer links and the description in `Links`.\n",
    "- Recruitment process information in `Participant_Flows`. Information is nullable.\n",
    "- Published articles on trials in `Study_References`. The `reference_type` can be *reference* or *results_reference*."
   ]
  },
  {
   "cell_type": "markdown",
   "metadata": {},
   "source": [
    "### Example 6: `conditions` and `browse_conditions`"
   ]
  },
  {
   "cell_type": "code",
   "execution_count": 44,
   "metadata": {},
   "outputs": [
    {
     "data": {
      "text/html": [
       "<table>\n",
       "<thead><tr><th scope=col>id</th><th scope=col>nct_id</th><th scope=col>name</th><th scope=col>downcase_name</th></tr></thead>\n",
       "<tbody>\n",
       "\t<tr><td>2223024           </td><td>NCT02899910       </td><td>Metabolic Syndrome</td><td>metabolic syndrome</td></tr>\n",
       "\t<tr><td>2223025           </td><td>NCT02899910       </td><td>Obesity           </td><td>obesity           </td></tr>\n",
       "\t<tr><td>2223026           </td><td>NCT02899910       </td><td>Insulin Resistance</td><td>insulin resistance</td></tr>\n",
       "</tbody>\n",
       "</table>\n"
      ],
      "text/latex": [
       "\\begin{tabular}{r|llll}\n",
       " id & nct\\_id & name & downcase\\_name\\\\\n",
       "\\hline\n",
       "\t 2223024            & NCT02899910        & Metabolic Syndrome & metabolic syndrome\\\\\n",
       "\t 2223025            & NCT02899910        & Obesity            & obesity           \\\\\n",
       "\t 2223026            & NCT02899910        & Insulin Resistance & insulin resistance\\\\\n",
       "\\end{tabular}\n"
      ],
      "text/markdown": [
       "\n",
       "id | nct_id | name | downcase_name | \n",
       "|---|---|---|\n",
       "| 2223024            | NCT02899910        | Metabolic Syndrome | metabolic syndrome | \n",
       "| 2223025            | NCT02899910        | Obesity            | obesity            | \n",
       "| 2223026            | NCT02899910        | Insulin Resistance | insulin resistance | \n",
       "\n",
       "\n"
      ],
      "text/plain": [
       "  id      nct_id      name               downcase_name     \n",
       "1 2223024 NCT02899910 Metabolic Syndrome metabolic syndrome\n",
       "2 2223025 NCT02899910 Obesity            obesity           \n",
       "3 2223026 NCT02899910 Insulin Resistance insulin resistance"
      ]
     },
     "metadata": {},
     "output_type": "display_data"
    },
    {
     "data": {
      "text/html": [
       "<table>\n",
       "<thead><tr><th scope=col>id</th><th scope=col>nct_id</th><th scope=col>mesh_term</th><th scope=col>downcase_mesh_term</th></tr></thead>\n",
       "<tbody>\n",
       "\t<tr><td>2432845             </td><td>NCT02899910         </td><td>Syndrome            </td><td>syndrome            </td></tr>\n",
       "\t<tr><td>2432846             </td><td>NCT02899910         </td><td>Metabolic Syndrome X</td><td>metabolic syndrome x</td></tr>\n",
       "\t<tr><td>2432847             </td><td>NCT02899910         </td><td>Insulin Resistance  </td><td>insulin resistance  </td></tr>\n",
       "</tbody>\n",
       "</table>\n"
      ],
      "text/latex": [
       "\\begin{tabular}{r|llll}\n",
       " id & nct\\_id & mesh\\_term & downcase\\_mesh\\_term\\\\\n",
       "\\hline\n",
       "\t 2432845              & NCT02899910          & Syndrome             & syndrome            \\\\\n",
       "\t 2432846              & NCT02899910          & Metabolic Syndrome X & metabolic syndrome x\\\\\n",
       "\t 2432847              & NCT02899910          & Insulin Resistance   & insulin resistance  \\\\\n",
       "\\end{tabular}\n"
      ],
      "text/markdown": [
       "\n",
       "id | nct_id | mesh_term | downcase_mesh_term | \n",
       "|---|---|---|\n",
       "| 2432845              | NCT02899910          | Syndrome             | syndrome             | \n",
       "| 2432846              | NCT02899910          | Metabolic Syndrome X | metabolic syndrome x | \n",
       "| 2432847              | NCT02899910          | Insulin Resistance   | insulin resistance   | \n",
       "\n",
       "\n"
      ],
      "text/plain": [
       "  id      nct_id      mesh_term            downcase_mesh_term  \n",
       "1 2432845 NCT02899910 Syndrome             syndrome            \n",
       "2 2432846 NCT02899910 Metabolic Syndrome X metabolic syndrome x\n",
       "3 2432847 NCT02899910 Insulin Resistance   insulin resistance  "
      ]
     },
     "metadata": {},
     "output_type": "display_data"
    }
   ],
   "source": [
    "# compare the Conditions and Browse_Conditions\n",
    "qry <- paste(\"select * from conditions where nct_id = 'NCT02899910'\")\n",
    "dbGetQuery(conn, qry)\n",
    "qry <- paste(\"select * from browse_conditions where nct_id = 'NCT02899910'\")\n",
    "dbGetQuery(conn, qry)"
   ]
  },
  {
   "cell_type": "markdown",
   "metadata": {},
   "source": [
    "---"
   ]
  },
  {
   "cell_type": "code",
   "execution_count": 116,
   "metadata": {},
   "outputs": [
    {
     "data": {
      "text/html": [
       "TRUE"
      ],
      "text/latex": [
       "TRUE"
      ],
      "text/markdown": [
       "TRUE"
      ],
      "text/plain": [
       "[1] TRUE"
      ]
     },
     "metadata": {},
     "output_type": "display_data"
    }
   ],
   "source": [
    "dbDisconnect(conn)"
   ]
  }
 ],
 "metadata": {
  "kernelspec": {
   "display_name": "R",
   "language": "R",
   "name": "ir"
  },
  "language_info": {
   "codemirror_mode": "r",
   "file_extension": ".r",
   "mimetype": "text/x-r-source",
   "name": "R",
   "pygments_lexer": "r",
   "version": "3.3.2"
  }
 },
 "nbformat": 4,
 "nbformat_minor": 2
}
